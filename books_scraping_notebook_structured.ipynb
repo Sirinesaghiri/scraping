{
 "cells": [
  {
   "cell_type": "markdown",
   "id": "2730c05d",
   "metadata": {},
   "source": [
    "### Web Scraping Tutorial (Books to Scrape Edition)\n",
    "This tutorial will guide you step-by-step on how to use Selenium and BeautifulSoup to scrape book listings from a legal website designed for educational purposes. We'll also use Pandas to store the scraped data in a CSV file.\n",
    "\n",
    "**Website used:** [https://books.toscrape.com](https://books.toscrape.com)\n",
    "\n",
    "This website is explicitly created for practicing scraping and allows full access via robots.txt.\n",
    "\n",
    "**Tools:** Selenium, BeautifulSoup, Pandas, WebDriver.\n",
    "\n",
    "**Legal Considerations:** This site allows scraping. Always verify robots.txt and terms of service before scraping other sites."
   ]
  },
  {
   "cell_type": "markdown",
   "id": "3f12d8fb",
   "metadata": {},
   "source": [
    "## Step 1: Install Required Libraries\n",
    "Install the required libraries using:\n",
    "```bash\n",
    "%pip install selenium beautifulsoup4 pandas\n",
    "```\n",
    "Download the appropriate WebDriver (e.g., ChromeDriver) and ensure it is in your system PATH."
   ]
  },
  {
   "cell_type": "markdown",
   "id": "4805ba8b",
   "metadata": {},
   "source": [
    "## Step 2: Import Libraries\n",
    "We import Selenium to control the browser, BeautifulSoup for HTML parsing, Pandas for data handling, and time for delays."
   ]
  },
  {
   "cell_type": "code",
   "execution_count": 14,
   "id": "10e1ab6b",
   "metadata": {},
   "outputs": [],
   "source": [
    "from selenium import webdriver\n",
    "from selenium.webdriver.common.by import By\n",
    "from selenium.webdriver.support.ui import WebDriverWait\n",
    "from selenium.webdriver.support import expected_conditions as EC\n",
    "from bs4 import BeautifulSoup\n",
    "import pandas as pd\n",
    "import time\n",
    "import matplotlib.pyplot as plt\n",
    "import seaborn as sns"
   ]
  },
  {
   "cell_type": "markdown",
   "id": "94ace9eb",
   "metadata": {},
   "source": [
    "## Step 3: Initialize WebDriver\n",
    "We launch the Chrome WebDriver to open the browser window."
   ]
  },
  {
   "cell_type": "code",
   "execution_count": 15,
   "id": "bc199cb1",
   "metadata": {},
   "outputs": [],
   "source": [
    "driver = webdriver.Chrome()"
   ]
  },
  {
   "cell_type": "code",
   "execution_count": 16,
   "id": "955cb1af",
   "metadata": {},
   "outputs": [],
   "source": [
    "search_keyword = \"science\""
   ]
  },
  {
   "cell_type": "markdown",
   "id": "007b2775",
   "metadata": {},
   "source": [
    "## Step 4: Build and Open URL\n",
    "We define the target category and build the corresponding URL to scrape book data from."
   ]
  },
  {
   "cell_type": "code",
   "execution_count": 17,
   "id": "c2ab8ba6",
   "metadata": {},
   "outputs": [],
   "source": [
    "url = f'https://books.toscrape.com/catalogue/category/books/{search_keyword}_22/index.html'\n"
   ]
  },
  {
   "cell_type": "code",
   "execution_count": 18,
   "id": "bbb15fa4",
   "metadata": {},
   "outputs": [],
   "source": [
    "driver.get(url)\n",
    "time.sleep(5)"
   ]
  },
  {
   "cell_type": "code",
   "execution_count": 19,
   "id": "020eab7b",
   "metadata": {},
   "outputs": [
    {
     "data": {
      "text/plain": [
       "<selenium.webdriver.remote.webelement.WebElement (session=\"a33273677b8571036db54498815db0bf\", element=\"f.62D634B61F4DFE2E645733D147F694DA.d.1A48555A6DEC900104D09C29DECB1E9C.e.24\")>"
      ]
     },
     "execution_count": 19,
     "metadata": {},
     "output_type": "execute_result"
    }
   ],
   "source": [
    "WebDriverWait(driver, 10).until(EC.presence_of_element_located((By.CLASS_NAME, 'product_pod')))"
   ]
  },
  {
   "cell_type": "markdown",
   "id": "178b789c",
   "metadata": {},
   "source": [
    "## Step 5: Wait for Page to Load\n",
    "We wait for the books section to be visible using WebDriverWait."
   ]
  },
  {
   "cell_type": "code",
   "execution_count": 20,
   "id": "0ef43581",
   "metadata": {},
   "outputs": [],
   "source": [
    "soup = BeautifulSoup(driver.page_source, 'html.parser')"
   ]
  },
  {
   "cell_type": "code",
   "execution_count": 21,
   "id": "badbd34d",
   "metadata": {},
   "outputs": [],
   "source": [
    "job_listings = soup.find_all('div', class_='sc-jv5lm6-0')"
   ]
  },
  {
   "cell_type": "markdown",
   "id": "432541be",
   "metadata": {},
   "source": [
    "## Step 6: Extract Book Data\n",
    "We use BeautifulSoup to parse and extract information like title, price, and availability from each book on the page."
   ]
  },
  {
   "cell_type": "code",
   "execution_count": 22,
   "id": "0eb8c994",
   "metadata": {},
   "outputs": [],
   "source": [
    "books = []\n",
    "book_items = soup.find_all('article', class_='product_pod')\n",
    "\n",
    "rating_map = {\n",
    "    'One': 1,\n",
    "    'Two': 2,\n",
    "    'Three': 3,\n",
    "    'Four': 4,\n",
    "    'Five': 5\n",
    "}\n",
    "\n",
    "for item in book_items:\n",
    "    title = item.h3.a['title']\n",
    "    price = item.find('p', class_='price_color').text.strip()\n",
    "    availability = item.find('p', class_='instock availability').text.strip()\n",
    "    \n",
    "    # rating\n",
    "    rating_tag = item.find('p', class_='star-rating')\n",
    "    rating_class = rating_tag['class'][1] if rating_tag and len(rating_tag['class']) > 1 else None\n",
    "    rating = rating_map.get(rating_class, None)\n",
    "    \n",
    "    # Link\n",
    "    partial_link = item.h3.a['href']\n",
    "    full_link = 'https://books.toscrape.com/catalogue/' + partial_link.replace('../../../', '')\n",
    "    \n",
    "    books.append({\n",
    "        'Title': title,\n",
    "        'Price': price,\n",
    "        'Availability': availability,\n",
    "        'Rating': rating,\n",
    "        'Link': full_link\n",
    "    })"
   ]
  },
  {
   "cell_type": "markdown",
   "id": "214846dc",
   "metadata": {},
   "source": [
    "## Step 7: Store Data in DataFrame\n",
    "We convert the list of books into a Pandas DataFrame for further analysis."
   ]
  },
  {
   "cell_type": "code",
   "execution_count": 23,
   "id": "51863963",
   "metadata": {},
   "outputs": [
    {
     "data": {
      "text/plain": [
       "(14, 5)"
      ]
     },
     "execution_count": 23,
     "metadata": {},
     "output_type": "execute_result"
    }
   ],
   "source": [
    "df = pd.DataFrame(books)\n",
    "df.shape"
   ]
  },
  {
   "cell_type": "code",
   "execution_count": 28,
   "id": "e942b1d0",
   "metadata": {},
   "outputs": [],
   "source": [
    "df.to_csv('books_data_.csv', index=False)\n",
    "df = pd.read_csv('books_data_.csv')"
   ]
  },
  {
   "cell_type": "code",
   "execution_count": 29,
   "id": "43860636",
   "metadata": {},
   "outputs": [],
   "source": [
    "df['Price Value'] = df['Price'].str.replace('£', '').astype(float)"
   ]
  },
  {
   "cell_type": "code",
   "execution_count": 30,
   "id": "f5e2e99b",
   "metadata": {},
   "outputs": [],
   "source": [
    "df['Price Range'] = pd.cut(df['Price Value'], bins=[0, 20, 35, 100], labels=['low', 'medium', 'high'])\n",
    "df['Price Range'] = df['Price Range'].astype('category')\n"
   ]
  },
  {
   "cell_type": "code",
   "execution_count": 31,
   "id": "d3ff0413",
   "metadata": {},
   "outputs": [],
   "source": [
    "df.drop(columns=['Price'], inplace=True)\n"
   ]
  },
  {
   "cell_type": "code",
   "execution_count": 32,
   "id": "b0bc40d0",
   "metadata": {},
   "outputs": [
    {
     "data": {
      "text/html": [
       "<div>\n",
       "<style scoped>\n",
       "    .dataframe tbody tr th:only-of-type {\n",
       "        vertical-align: middle;\n",
       "    }\n",
       "\n",
       "    .dataframe tbody tr th {\n",
       "        vertical-align: top;\n",
       "    }\n",
       "\n",
       "    .dataframe thead th {\n",
       "        text-align: right;\n",
       "    }\n",
       "</style>\n",
       "<table border=\"1\" class=\"dataframe\">\n",
       "  <thead>\n",
       "    <tr style=\"text-align: right;\">\n",
       "      <th></th>\n",
       "      <th>Title</th>\n",
       "      <th>Link</th>\n",
       "      <th>Price Value</th>\n",
       "    </tr>\n",
       "  </thead>\n",
       "  <tbody>\n",
       "    <tr>\n",
       "      <th>1</th>\n",
       "      <td>Immunity: How Elie Metchnikoff Changed the Cou...</td>\n",
       "      <td>https://books.toscrape.com/catalogue/immunity-...</td>\n",
       "      <td>57.36</td>\n",
       "    </tr>\n",
       "    <tr>\n",
       "      <th>10</th>\n",
       "      <td>The Disappearing Spoon: And Other True Tales o...</td>\n",
       "      <td>https://books.toscrape.com/catalogue/the-disap...</td>\n",
       "      <td>57.35</td>\n",
       "    </tr>\n",
       "  </tbody>\n",
       "</table>\n",
       "</div>"
      ],
      "text/plain": [
       "                                                Title  \\\n",
       "1   Immunity: How Elie Metchnikoff Changed the Cou...   \n",
       "10  The Disappearing Spoon: And Other True Tales o...   \n",
       "\n",
       "                                                 Link  Price Value  \n",
       "1   https://books.toscrape.com/catalogue/immunity-...        57.36  \n",
       "10  https://books.toscrape.com/catalogue/the-disap...        57.35  "
      ]
     },
     "execution_count": 32,
     "metadata": {},
     "output_type": "execute_result"
    }
   ],
   "source": [
    "df[df['Rating'] == df['Rating'].max()][['Title', 'Link', 'Price Value']].head(10)"
   ]
  },
  {
   "cell_type": "code",
   "execution_count": 33,
   "id": "c56625ee",
   "metadata": {},
   "outputs": [],
   "source": [
    "# Convert 'Price Range' to categorical type\n",
    "df['Price Range'] = df['Price Range'].astype('category')"
   ]
  },
  {
   "cell_type": "code",
   "execution_count": 34,
   "id": "2e8ad474",
   "metadata": {},
   "outputs": [
    {
     "ename": "KeyError",
     "evalue": "\"['Availability Count', 'In Stock'] not in index\"",
     "output_type": "error",
     "traceback": [
      "\u001b[1;31m---------------------------------------------------------------------------\u001b[0m",
      "\u001b[1;31mKeyError\u001b[0m                                  Traceback (most recent call last)",
      "Cell \u001b[1;32mIn[34], line 2\u001b[0m\n\u001b[0;32m      1\u001b[0m \u001b[38;5;66;03m# Reorder columns logically\u001b[39;00m\n\u001b[1;32m----> 2\u001b[0m df \u001b[38;5;241m=\u001b[39m \u001b[43mdf\u001b[49m\u001b[43m[\u001b[49m\u001b[43m[\u001b[49m\u001b[38;5;124;43m'\u001b[39;49m\u001b[38;5;124;43mTitle\u001b[39;49m\u001b[38;5;124;43m'\u001b[39;49m\u001b[43m,\u001b[49m\u001b[43m \u001b[49m\u001b[38;5;124;43m'\u001b[39;49m\u001b[38;5;124;43mRating\u001b[39;49m\u001b[38;5;124;43m'\u001b[39;49m\u001b[43m,\u001b[49m\u001b[43m \u001b[49m\u001b[38;5;124;43m'\u001b[39;49m\u001b[38;5;124;43mPrice Value\u001b[39;49m\u001b[38;5;124;43m'\u001b[39;49m\u001b[43m,\u001b[49m\u001b[43m \u001b[49m\u001b[38;5;124;43m'\u001b[39;49m\u001b[38;5;124;43mPrice Range\u001b[39;49m\u001b[38;5;124;43m'\u001b[39;49m\u001b[43m,\u001b[49m\u001b[43m \u001b[49m\u001b[38;5;124;43m'\u001b[39;49m\u001b[38;5;124;43mAvailability Count\u001b[39;49m\u001b[38;5;124;43m'\u001b[39;49m\u001b[43m,\u001b[49m\u001b[43m \u001b[49m\u001b[38;5;124;43m'\u001b[39;49m\u001b[38;5;124;43mIn Stock\u001b[39;49m\u001b[38;5;124;43m'\u001b[39;49m\u001b[43m,\u001b[49m\u001b[43m \u001b[49m\u001b[38;5;124;43m'\u001b[39;49m\u001b[38;5;124;43mLink\u001b[39;49m\u001b[38;5;124;43m'\u001b[39;49m\u001b[43m]\u001b[49m\u001b[43m]\u001b[49m\n",
      "File \u001b[1;32mc:\\Users\\sisar\\AppData\\Local\\Programs\\Python\\Python312\\Lib\\site-packages\\pandas\\core\\frame.py:4108\u001b[0m, in \u001b[0;36mDataFrame.__getitem__\u001b[1;34m(self, key)\u001b[0m\n\u001b[0;32m   4106\u001b[0m     \u001b[38;5;28;01mif\u001b[39;00m is_iterator(key):\n\u001b[0;32m   4107\u001b[0m         key \u001b[38;5;241m=\u001b[39m \u001b[38;5;28mlist\u001b[39m(key)\n\u001b[1;32m-> 4108\u001b[0m     indexer \u001b[38;5;241m=\u001b[39m \u001b[38;5;28;43mself\u001b[39;49m\u001b[38;5;241;43m.\u001b[39;49m\u001b[43mcolumns\u001b[49m\u001b[38;5;241;43m.\u001b[39;49m\u001b[43m_get_indexer_strict\u001b[49m\u001b[43m(\u001b[49m\u001b[43mkey\u001b[49m\u001b[43m,\u001b[49m\u001b[43m \u001b[49m\u001b[38;5;124;43m\"\u001b[39;49m\u001b[38;5;124;43mcolumns\u001b[39;49m\u001b[38;5;124;43m\"\u001b[39;49m\u001b[43m)\u001b[49m[\u001b[38;5;241m1\u001b[39m]\n\u001b[0;32m   4110\u001b[0m \u001b[38;5;66;03m# take() does not accept boolean indexers\u001b[39;00m\n\u001b[0;32m   4111\u001b[0m \u001b[38;5;28;01mif\u001b[39;00m \u001b[38;5;28mgetattr\u001b[39m(indexer, \u001b[38;5;124m\"\u001b[39m\u001b[38;5;124mdtype\u001b[39m\u001b[38;5;124m\"\u001b[39m, \u001b[38;5;28;01mNone\u001b[39;00m) \u001b[38;5;241m==\u001b[39m \u001b[38;5;28mbool\u001b[39m:\n",
      "File \u001b[1;32mc:\\Users\\sisar\\AppData\\Local\\Programs\\Python\\Python312\\Lib\\site-packages\\pandas\\core\\indexes\\base.py:6200\u001b[0m, in \u001b[0;36mIndex._get_indexer_strict\u001b[1;34m(self, key, axis_name)\u001b[0m\n\u001b[0;32m   6197\u001b[0m \u001b[38;5;28;01melse\u001b[39;00m:\n\u001b[0;32m   6198\u001b[0m     keyarr, indexer, new_indexer \u001b[38;5;241m=\u001b[39m \u001b[38;5;28mself\u001b[39m\u001b[38;5;241m.\u001b[39m_reindex_non_unique(keyarr)\n\u001b[1;32m-> 6200\u001b[0m \u001b[38;5;28;43mself\u001b[39;49m\u001b[38;5;241;43m.\u001b[39;49m\u001b[43m_raise_if_missing\u001b[49m\u001b[43m(\u001b[49m\u001b[43mkeyarr\u001b[49m\u001b[43m,\u001b[49m\u001b[43m \u001b[49m\u001b[43mindexer\u001b[49m\u001b[43m,\u001b[49m\u001b[43m \u001b[49m\u001b[43maxis_name\u001b[49m\u001b[43m)\u001b[49m\n\u001b[0;32m   6202\u001b[0m keyarr \u001b[38;5;241m=\u001b[39m \u001b[38;5;28mself\u001b[39m\u001b[38;5;241m.\u001b[39mtake(indexer)\n\u001b[0;32m   6203\u001b[0m \u001b[38;5;28;01mif\u001b[39;00m \u001b[38;5;28misinstance\u001b[39m(key, Index):\n\u001b[0;32m   6204\u001b[0m     \u001b[38;5;66;03m# GH 42790 - Preserve name from an Index\u001b[39;00m\n",
      "File \u001b[1;32mc:\\Users\\sisar\\AppData\\Local\\Programs\\Python\\Python312\\Lib\\site-packages\\pandas\\core\\indexes\\base.py:6252\u001b[0m, in \u001b[0;36mIndex._raise_if_missing\u001b[1;34m(self, key, indexer, axis_name)\u001b[0m\n\u001b[0;32m   6249\u001b[0m     \u001b[38;5;28;01mraise\u001b[39;00m \u001b[38;5;167;01mKeyError\u001b[39;00m(\u001b[38;5;124mf\u001b[39m\u001b[38;5;124m\"\u001b[39m\u001b[38;5;124mNone of [\u001b[39m\u001b[38;5;132;01m{\u001b[39;00mkey\u001b[38;5;132;01m}\u001b[39;00m\u001b[38;5;124m] are in the [\u001b[39m\u001b[38;5;132;01m{\u001b[39;00maxis_name\u001b[38;5;132;01m}\u001b[39;00m\u001b[38;5;124m]\u001b[39m\u001b[38;5;124m\"\u001b[39m)\n\u001b[0;32m   6251\u001b[0m not_found \u001b[38;5;241m=\u001b[39m \u001b[38;5;28mlist\u001b[39m(ensure_index(key)[missing_mask\u001b[38;5;241m.\u001b[39mnonzero()[\u001b[38;5;241m0\u001b[39m]]\u001b[38;5;241m.\u001b[39munique())\n\u001b[1;32m-> 6252\u001b[0m \u001b[38;5;28;01mraise\u001b[39;00m \u001b[38;5;167;01mKeyError\u001b[39;00m(\u001b[38;5;124mf\u001b[39m\u001b[38;5;124m\"\u001b[39m\u001b[38;5;132;01m{\u001b[39;00mnot_found\u001b[38;5;132;01m}\u001b[39;00m\u001b[38;5;124m not in index\u001b[39m\u001b[38;5;124m\"\u001b[39m)\n",
      "\u001b[1;31mKeyError\u001b[0m: \"['Availability Count', 'In Stock'] not in index\""
     ]
    }
   ],
   "source": [
    "# Reorder columns logically\n",
    "df = df[['Title', 'Rating', 'Price Value', 'Price Range', 'Availability Count', 'In Stock', 'Link']]"
   ]
  },
  {
   "cell_type": "markdown",
   "id": "8efc165e",
   "metadata": {},
   "source": [
    "### Count of Books by Rating"
   ]
  },
  {
   "cell_type": "code",
   "execution_count": null,
   "id": "d5ef0718",
   "metadata": {},
   "outputs": [
    {
     "data": {
      "image/png": "[encoded data removed]",
      "text/plain": [
       "<Figure size 600x400 with 1 Axes>"
      ]
     },
     "metadata": {},
     "output_type": "display_data"
    }
   ],
   "source": [
    "plt.figure(figsize=(6, 4))\n",
    "sns.countplot(x='Rating', data=df)\n",
    "plt.title('Number of Books per Rating')\n",
    "plt.xlabel('Rating')\n",
    "plt.ylabel('Count')\n",
    "plt.show()"
   ]
  },
  {
   "cell_type": "markdown",
   "id": "661c3548",
   "metadata": {},
   "source": [
    "### Top Rated Books with Links"
   ]
  },
  {
   "cell_type": "markdown",
   "id": "976c3476",
   "metadata": {},
   "source": [
    "### Top Rated and Most Expensive Books"
   ]
  },
  {
   "cell_type": "code",
   "execution_count": null,
   "id": "60f9d429",
   "metadata": {},
   "outputs": [
    {
     "data": {
      "text/html": [
       "<div>\n",
       "<style scoped>\n",
       "    .dataframe tbody tr th:only-of-type {\n",
       "        vertical-align: middle;\n",
       "    }\n",
       "\n",
       "    .dataframe tbody tr th {\n",
       "        vertical-align: top;\n",
       "    }\n",
       "\n",
       "    .dataframe thead th {\n",
       "        text-align: right;\n",
       "    }\n",
       "</style>\n",
       "<table border=\"1\" class=\"dataframe\">\n",
       "  <thead>\n",
       "    <tr style=\"text-align: right;\">\n",
       "      <th></th>\n",
       "      <th>Title</th>\n",
       "      <th>Rating</th>\n",
       "      <th>Price Value</th>\n",
       "      <th>Link</th>\n",
       "    </tr>\n",
       "  </thead>\n",
       "  <tbody>\n",
       "    <tr>\n",
       "      <th>1</th>\n",
       "      <td>Immunity: How Elie Metchnikoff Changed the Cou...</td>\n",
       "      <td>5</td>\n",
       "      <td>57.36</td>\n",
       "      <td>https://books.toscrape.com/catalogue/immunity-...</td>\n",
       "    </tr>\n",
       "    <tr>\n",
       "      <th>10</th>\n",
       "      <td>The Disappearing Spoon: And Other True Tales o...</td>\n",
       "      <td>5</td>\n",
       "      <td>57.35</td>\n",
       "      <td>https://books.toscrape.com/catalogue/the-disap...</td>\n",
       "    </tr>\n",
       "    <tr>\n",
       "      <th>2</th>\n",
       "      <td>Sorting the Beef from the Bull: The Science of...</td>\n",
       "      <td>4</td>\n",
       "      <td>44.74</td>\n",
       "      <td>https://books.toscrape.com/catalogue/sorting-t...</td>\n",
       "    </tr>\n",
       "    <tr>\n",
       "      <th>0</th>\n",
       "      <td>The Most Perfect Thing: Inside (and Outside) a...</td>\n",
       "      <td>4</td>\n",
       "      <td>42.96</td>\n",
       "      <td>https://books.toscrape.com/catalogue/the-most-...</td>\n",
       "    </tr>\n",
       "    <tr>\n",
       "      <th>12</th>\n",
       "      <td>Seven Brief Lessons on Physics</td>\n",
       "      <td>4</td>\n",
       "      <td>30.60</td>\n",
       "      <td>https://books.toscrape.com/catalogue/seven-bri...</td>\n",
       "    </tr>\n",
       "  </tbody>\n",
       "</table>\n",
       "</div>"
      ],
      "text/plain": [
       "                                                Title  Rating  Price Value  \\\n",
       "1   Immunity: How Elie Metchnikoff Changed the Cou...       5        57.36   \n",
       "10  The Disappearing Spoon: And Other True Tales o...       5        57.35   \n",
       "2   Sorting the Beef from the Bull: The Science of...       4        44.74   \n",
       "0   The Most Perfect Thing: Inside (and Outside) a...       4        42.96   \n",
       "12                     Seven Brief Lessons on Physics       4        30.60   \n",
       "\n",
       "                                                 Link  \n",
       "1   https://books.toscrape.com/catalogue/immunity-...  \n",
       "10  https://books.toscrape.com/catalogue/the-disap...  \n",
       "2   https://books.toscrape.com/catalogue/sorting-t...  \n",
       "0   https://books.toscrape.com/catalogue/the-most-...  \n",
       "12  https://books.toscrape.com/catalogue/seven-bri...  "
      ]
     },
     "execution_count": 63,
     "metadata": {},
     "output_type": "execute_result"
    }
   ],
   "source": [
    "top_books = df.sort_values(by=['Rating', 'Price Value'], ascending=[False, False])\n",
    "top_books[['Title', 'Rating', 'Price Value', 'Link']].head(5)"
   ]
  },
  {
   "cell_type": "markdown",
   "id": "76f5efe5",
   "metadata": {},
   "source": [
    "### Distribution of Ratings"
   ]
  },
  {
   "cell_type": "code",
   "execution_count": null,
   "id": "61663a6d",
   "metadata": {},
   "outputs": [
    {
     "data": {
      "image/png": "[encoded data removed]",
      "text/plain": [
       "<Figure size 600x400 with 1 Axes>"
      ]
     },
     "metadata": {},
     "output_type": "display_data"
    }
   ],
   "source": [
    "plt.figure(figsize=(6, 4))\n",
    "sns.countplot(data=df, x='Rating')\n",
    "plt.title('Distribution of Ratings')\n",
    "plt.xlabel('Rating (Stars)')\n",
    "plt.ylabel('Number of Books')\n",
    "plt.show()"
   ]
  },
  {
   "cell_type": "markdown",
   "id": "627604f4",
   "metadata": {},
   "source": [
    "### Book Prices by Rating"
   ]
  },
  {
   "cell_type": "code",
   "execution_count": null,
   "id": "f1cf9fb6",
   "metadata": {},
   "outputs": [
    {
     "data": {
      "image/png": "[encoded data removed]",
      "text/plain": [
       "<Figure size 800x500 with 1 Axes>"
      ]
     },
     "metadata": {},
     "output_type": "display_data"
    }
   ],
   "source": [
    "plt.figure(figsize=(8, 5))\n",
    "sns.boxplot(data=df, x='Rating', y='Price Value')\n",
    "plt.title('Book Prices by Rating')\n",
    "plt.xlabel('Rating')\n",
    "plt.ylabel('Price (£)')\n",
    "plt.show()"
   ]
  },
  {
   "cell_type": "markdown",
   "id": "7765d9c9",
   "metadata": {},
   "source": [
    "### Rating vs Price"
   ]
  },
  {
   "cell_type": "code",
   "execution_count": null,
   "id": "afe18a9c",
   "metadata": {},
   "outputs": [
    {
     "data": {
      "image/png": "[encoded data removed]",
      "text/plain": [
       "<Figure size 700x500 with 1 Axes>"
      ]
     },
     "metadata": {},
     "output_type": "display_data"
    }
   ],
   "source": [
    "plt.figure(figsize=(7, 5))\n",
    "sns.stripplot(data=df, x='Rating', y='Price Value', jitter=True)\n",
    "plt.title('Rating vs Price')\n",
    "plt.xlabel('Rating')\n",
    "plt.ylabel('Price (£)')\n",
    "plt.show()"
   ]
  },
  {
   "cell_type": "markdown",
   "id": "5b9510b9",
   "metadata": {},
   "source": [
    "### Rating Distribution Pie Chart"
   ]
  },
  {
   "cell_type": "code",
   "execution_count": null,
   "id": "30b22e47",
   "metadata": {},
   "outputs": [
    {
     "data": {
      "image/png": "[encoded data removed]",
      "text/plain": [
       "<Figure size 600x600 with 1 Axes>"
      ]
     },
     "metadata": {},
     "output_type": "display_data"
    }
   ],
   "source": [
    "rating_counts = df['Rating'].value_counts()\n",
    "plt.figure(figsize=(6, 6))\n",
    "plt.pie(rating_counts, labels=rating_counts.index, autopct='%1.1f%%', startangle=140)\n",
    "plt.title('Rating Distribution')\n",
    "plt.axis('equal')\n",
    "plt.show()"
   ]
  },
  {
   "cell_type": "code",
   "execution_count": null,
   "id": "6cd987a1",
   "metadata": {},
   "outputs": [],
   "source": [
    "# Extract number of available copies from 'Availability'\n",
    "import re\n",
    "df['Availability Count'] = df['Availability'].apply(\n",
    "    lambda x: int(re.search(r'(\\d+)', x).group(1)) if re.search(r'(\\d+)', x) else 0\n",
    ")"
   ]
  },
  {
   "cell_type": "markdown",
   "id": "54c72fc5",
   "metadata": {},
   "source": [
    "## Exploratory Data Analysis"
   ]
  },
  {
   "cell_type": "code",
   "execution_count": null,
   "id": "5c597f24",
   "metadata": {},
   "outputs": [
    {
     "data": {
      "text/plain": [
       "count    14.000000\n",
       "mean     33.088571\n",
       "std      16.725702\n",
       "min      10.010000\n",
       "25%      18.667500\n",
       "50%      30.025000\n",
       "75%      44.295000\n",
       "max      57.360000\n",
       "Name: Price Value, dtype: float64"
      ]
     },
     "execution_count": 58,
     "metadata": {},
     "output_type": "execute_result"
    }
   ],
   "source": [
    "df['Price Value'].describe()\n"
   ]
  },
  {
   "cell_type": "code",
   "execution_count": null,
   "id": "fe95b834",
   "metadata": {},
   "outputs": [
    {
     "data": {
      "image/png": "[encoded data removed]",
      "text/plain": [
       "<Figure size 800x500 with 1 Axes>"
      ]
     },
     "metadata": {},
     "output_type": "display_data"
    }
   ],
   "source": [
    "plt.figure(figsize=(8, 5))\n",
    "sns.histplot(df['Price Value'], kde=True)\n",
    "plt.title('Distribution of Book Prices')\n",
    "plt.xlabel('Price (£)')\n",
    "plt.ylabel('Count')\n",
    "plt.show()"
   ]
  },
  {
   "cell_type": "markdown",
   "id": "834b4e6a",
   "metadata": {},
   "source": [
    "### Step 11.6: Top 10 Most Expensive Books"
   ]
  },
  {
   "cell_type": "code",
   "execution_count": null,
   "id": "82691f96",
   "metadata": {},
   "outputs": [
    {
     "data": {
      "text/html": [
       "<div>\n",
       "<style scoped>\n",
       "    .dataframe tbody tr th:only-of-type {\n",
       "        vertical-align: middle;\n",
       "    }\n",
       "\n",
       "    .dataframe tbody tr th {\n",
       "        vertical-align: top;\n",
       "    }\n",
       "\n",
       "    .dataframe thead th {\n",
       "        text-align: right;\n",
       "    }\n",
       "</style>\n",
       "<table border=\"1\" class=\"dataframe\">\n",
       "  <thead>\n",
       "    <tr style=\"text-align: right;\">\n",
       "      <th></th>\n",
       "      <th>Title</th>\n",
       "      <th>Price</th>\n",
       "      <th>Availability</th>\n",
       "      <th>Rating</th>\n",
       "      <th>Link</th>\n",
       "      <th>In Stock</th>\n",
       "      <th>Price Range</th>\n",
       "      <th>Price Value</th>\n",
       "    </tr>\n",
       "  </thead>\n",
       "  <tbody>\n",
       "    <tr>\n",
       "      <th>1</th>\n",
       "      <td>Immunity: How Elie Metchnikoff Changed the Cou...</td>\n",
       "      <td>£57.36</td>\n",
       "      <td>In stock</td>\n",
       "      <td>5</td>\n",
       "      <td>https://books.toscrape.com/catalogue/immunity-...</td>\n",
       "      <td>True</td>\n",
       "      <td>high</td>\n",
       "      <td>57.36</td>\n",
       "    </tr>\n",
       "    <tr>\n",
       "      <th>10</th>\n",
       "      <td>The Disappearing Spoon: And Other True Tales o...</td>\n",
       "      <td>£57.35</td>\n",
       "      <td>In stock</td>\n",
       "      <td>5</td>\n",
       "      <td>https://books.toscrape.com/catalogue/the-disap...</td>\n",
       "      <td>True</td>\n",
       "      <td>high</td>\n",
       "      <td>57.35</td>\n",
       "    </tr>\n",
       "    <tr>\n",
       "      <th>4</th>\n",
       "      <td>The Fabric of the Cosmos: Space, Time, and the...</td>\n",
       "      <td>£55.91</td>\n",
       "      <td>In stock</td>\n",
       "      <td>1</td>\n",
       "      <td>https://books.toscrape.com/catalogue/the-fabri...</td>\n",
       "      <td>True</td>\n",
       "      <td>high</td>\n",
       "      <td>55.91</td>\n",
       "    </tr>\n",
       "    <tr>\n",
       "      <th>2</th>\n",
       "      <td>Sorting the Beef from the Bull: The Science of...</td>\n",
       "      <td>£44.74</td>\n",
       "      <td>In stock</td>\n",
       "      <td>4</td>\n",
       "      <td>https://books.toscrape.com/catalogue/sorting-t...</td>\n",
       "      <td>True</td>\n",
       "      <td>high</td>\n",
       "      <td>44.74</td>\n",
       "    </tr>\n",
       "    <tr>\n",
       "      <th>0</th>\n",
       "      <td>The Most Perfect Thing: Inside (and Outside) a...</td>\n",
       "      <td>£42.96</td>\n",
       "      <td>In stock</td>\n",
       "      <td>4</td>\n",
       "      <td>https://books.toscrape.com/catalogue/the-most-...</td>\n",
       "      <td>True</td>\n",
       "      <td>high</td>\n",
       "      <td>42.96</td>\n",
       "    </tr>\n",
       "    <tr>\n",
       "      <th>3</th>\n",
       "      <td>Tipping Point for Planet Earth: How Close Are ...</td>\n",
       "      <td>£37.55</td>\n",
       "      <td>In stock</td>\n",
       "      <td>1</td>\n",
       "      <td>https://books.toscrape.com/catalogue/tipping-p...</td>\n",
       "      <td>True</td>\n",
       "      <td>high</td>\n",
       "      <td>37.55</td>\n",
       "    </tr>\n",
       "    <tr>\n",
       "      <th>12</th>\n",
       "      <td>Seven Brief Lessons on Physics</td>\n",
       "      <td>£30.60</td>\n",
       "      <td>In stock</td>\n",
       "      <td>4</td>\n",
       "      <td>https://books.toscrape.com/catalogue/seven-bri...</td>\n",
       "      <td>True</td>\n",
       "      <td>medium</td>\n",
       "      <td>30.60</td>\n",
       "    </tr>\n",
       "    <tr>\n",
       "      <th>13</th>\n",
       "      <td>The Selfish Gene</td>\n",
       "      <td>£29.45</td>\n",
       "      <td>In stock</td>\n",
       "      <td>1</td>\n",
       "      <td>https://books.toscrape.com/catalogue/the-selfi...</td>\n",
       "      <td>True</td>\n",
       "      <td>medium</td>\n",
       "      <td>29.45</td>\n",
       "    </tr>\n",
       "    <tr>\n",
       "      <th>5</th>\n",
       "      <td>Diary of a Citizen Scientist: Chasing Tiger Be...</td>\n",
       "      <td>£28.41</td>\n",
       "      <td>In stock</td>\n",
       "      <td>1</td>\n",
       "      <td>https://books.toscrape.com/catalogue/diary-of-...</td>\n",
       "      <td>True</td>\n",
       "      <td>medium</td>\n",
       "      <td>28.41</td>\n",
       "    </tr>\n",
       "    <tr>\n",
       "      <th>11</th>\n",
       "      <td>Surely You're Joking, Mr. Feynman!: Adventures...</td>\n",
       "      <td>£25.83</td>\n",
       "      <td>In stock</td>\n",
       "      <td>2</td>\n",
       "      <td>https://books.toscrape.com/catalogue/surely-yo...</td>\n",
       "      <td>True</td>\n",
       "      <td>medium</td>\n",
       "      <td>25.83</td>\n",
       "    </tr>\n",
       "  </tbody>\n",
       "</table>\n",
       "</div>"
      ],
      "text/plain": [
       "                                                Title   Price Availability  \\\n",
       "1   Immunity: How Elie Metchnikoff Changed the Cou...  £57.36     In stock   \n",
       "10  The Disappearing Spoon: And Other True Tales o...  £57.35     In stock   \n",
       "4   The Fabric of the Cosmos: Space, Time, and the...  £55.91     In stock   \n",
       "2   Sorting the Beef from the Bull: The Science of...  £44.74     In stock   \n",
       "0   The Most Perfect Thing: Inside (and Outside) a...  £42.96     In stock   \n",
       "3   Tipping Point for Planet Earth: How Close Are ...  £37.55     In stock   \n",
       "12                     Seven Brief Lessons on Physics  £30.60     In stock   \n",
       "13                                   The Selfish Gene  £29.45     In stock   \n",
       "5   Diary of a Citizen Scientist: Chasing Tiger Be...  £28.41     In stock   \n",
       "11  Surely You're Joking, Mr. Feynman!: Adventures...  £25.83     In stock   \n",
       "\n",
       "    Rating                                               Link  In Stock  \\\n",
       "1        5  https://books.toscrape.com/catalogue/immunity-...      True   \n",
       "10       5  https://books.toscrape.com/catalogue/the-disap...      True   \n",
       "4        1  https://books.toscrape.com/catalogue/the-fabri...      True   \n",
       "2        4  https://books.toscrape.com/catalogue/sorting-t...      True   \n",
       "0        4  https://books.toscrape.com/catalogue/the-most-...      True   \n",
       "3        1  https://books.toscrape.com/catalogue/tipping-p...      True   \n",
       "12       4  https://books.toscrape.com/catalogue/seven-bri...      True   \n",
       "13       1  https://books.toscrape.com/catalogue/the-selfi...      True   \n",
       "5        1  https://books.toscrape.com/catalogue/diary-of-...      True   \n",
       "11       2  https://books.toscrape.com/catalogue/surely-yo...      True   \n",
       "\n",
       "   Price Range  Price Value  \n",
       "1         high        57.36  \n",
       "10        high        57.35  \n",
       "4         high        55.91  \n",
       "2         high        44.74  \n",
       "0         high        42.96  \n",
       "3         high        37.55  \n",
       "12      medium        30.60  \n",
       "13      medium        29.45  \n",
       "5       medium        28.41  \n",
       "11      medium        25.83  "
      ]
     },
     "execution_count": 60,
     "metadata": {},
     "output_type": "execute_result"
    }
   ],
   "source": [
    "df.sort_values(by='Price Value', ascending=False).head(10)"
   ]
  },
  {
   "cell_type": "markdown",
   "id": "de0eec53",
   "metadata": {},
   "source": [
    "### Step 11.7: Save Cleaned Data"
   ]
  },
  {
   "cell_type": "code",
   "execution_count": null,
   "id": "e53d7e33",
   "metadata": {},
   "outputs": [],
   "source": [
    "df.to_csv('clean_data_.csv', index=False)"
   ]
  }
 ],
 "metadata": {
  "kernelspec": {
   "display_name": "Python 3",
   "language": "python",
   "name": "python3"
  },
  "language_info": {
   "codemirror_mode": {
    "name": "ipython",
    "version": 3
   },
   "file_extension": ".py",
   "mimetype": "text/x-python",
   "name": "python",
   "nbconvert_exporter": "python",
   "pygments_lexer": "ipython3",
   "version": "3.12.5"
  }
 },
 "nbformat": 4,
 "nbformat_minor": 5
}
